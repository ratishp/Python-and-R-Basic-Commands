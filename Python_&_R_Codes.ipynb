{
 "cells": [
  {
   "cell_type": "markdown",
   "metadata": {
    "collapsed": false
   },
   "source": [
    "# Python and R Commands"
   ]
  },
  {
   "cell_type": "markdown",
   "metadata": {
    "collapsed": false
   },
   "source": [
    "### Basic Data Types"
   ]
  },
  {
   "cell_type": "code",
   "execution_count": 25,
   "metadata": {
    "collapsed": false
   },
   "outputs": [
    {
     "name": "stdout",
     "output_type": "stream",
     "text": [
      "5\n",
      "6\n",
      "4\n",
      "10\n",
      "25\n",
      "6\n",
      "12\n",
      "<type 'float'>\n",
      "2.5 3.5 5.0 6.25\n"
     ]
    }
   ],
   "source": [
    "# Python                       # R\n",
    "x = 5                          # x = 5 or x <-5\n",
    "x                              # x\n",
    "print x                        # print(x)\n",
    "print x + 1                    # print(x + 1)\n",
    "print x - 1                    # print(x - 1)\n",
    "print x *  2                   # print(x * 2)\n",
    "print x ** 2                   # print(x ** 2)\n",
    "x += 1                         # not supported in R\n",
    "print x                        # print(x)\n",
    "x *= 2                         # not supported in R\n",
    "print x \n",
    "y = 2.5                        # y = 2.5\n",
    "print type(y)                  # typeof(y)\n",
    "print y, y + 1, y * 2, y ** 2  # sprintf(\"%g, %g, %g,%g\", y, y + 1, y * 2, y ** 2)\n"
   ]
  },
  {
   "cell_type": "markdown",
   "metadata": {
    "collapsed": false
   },
   "source": [
    "### Booleans"
   ]
  },
  {
   "cell_type": "code",
   "execution_count": 28,
   "metadata": {
    "collapsed": false
   },
   "outputs": [
    {
     "name": "stdout",
     "output_type": "stream",
     "text": [
      "<type 'bool'>\n",
      "False\n",
      "True\n",
      "False\n",
      "True\n"
     ]
    }
   ],
   "source": [
    "# Python        # R\n",
    "t = True        # t = TRUE\n",
    "f = False       # f = FALSE\n",
    "print type(t)   # print(typeof(t))\n",
    "print t and f   # print(t & f)\n",
    "print t or f    # print(t | f)\n",
    "print not t     # print(!t)\n",
    "print t!=f      # print(t!=f)\n"
   ]
  },
  {
   "cell_type": "markdown",
   "metadata": {},
   "source": [
    "### Strings"
   ]
  },
  {
   "cell_type": "code",
   "execution_count": 33,
   "metadata": {
    "collapsed": false
   },
   "outputs": [
    {
     "name": "stdout",
     "output_type": "stream",
     "text": [
      "hello\n",
      "5\n",
      "hello world\n",
      "hello world 12\n"
     ]
    }
   ],
   "source": [
    "# Python                               # R\n",
    "hello = 'hello'                        # hello = \"hello\"\n",
    "world = 'world'                        # world = \"world\"\n",
    "print hello                            # print(hello)\n",
    "print len(hello)                       # print(length(hello))\n",
    "hw = hello + ' ' + world               # hw = paste(hello, world, sep=\" \")\n",
    "print hw                               # print(hw)\n",
    "hw12 = '%s %s %d' % (hello, world, 12) # hw= sprintf(\"%s %s %d\", hello, world, 12)\n",
    "print hw12                             # print(hw)"
   ]
  },
  {
   "cell_type": "markdown",
   "metadata": {},
   "source": [
    "### String Functions"
   ]
  },
  {
   "cell_type": "code",
   "execution_count": 35,
   "metadata": {
    "collapsed": false
   },
   "outputs": [
    {
     "name": "stdout",
     "output_type": "stream",
     "text": [
      "Hello\n",
      "  hello\n",
      " hello \n"
     ]
    }
   ],
   "source": [
    "# Python                               # R\n",
    "s = 'hello'                            # s = \"hello\"\n",
    "print s.capitalize()                   # toupper(s)\n",
    "print s.rjust(7)                       # \n",
    "print s.center(7)                      # \n",
    "print s.replace('l', '(ell)')          # ibrary(stringr); str_replace_all(s, \"[l]\", \"(ell)\")\n",
    "print '  world '.strip()               # library(stringr); str_trim(\"  world \")"
   ]
  },
  {
   "cell_type": "markdown",
   "metadata": {},
   "source": [
    "### Containers\n",
    "\n",
    "### Lists"
   ]
  },
  {
   "cell_type": "code",
   "execution_count": 40,
   "metadata": {
    "collapsed": false
   },
   "outputs": [
    {
     "name": "stdout",
     "output_type": "stream",
     "text": [
      "[3, 1, 2] 2\n",
      "2\n",
      "[3, 1, 'foo']\n",
      "foo [3, 1]\n"
     ]
    }
   ],
   "source": [
    "# Python                               # R\n",
    "xs = [3, 1, 2]                         # xs = c(3,1,2)\n",
    "print xs, xs[2]                        # print(xs); print (xs[3])\n",
    "print xs[-1]                           # print(xs[3])\n",
    "xs[2] = 'foo'                          # xs[3]=\"foo\"\n",
    "print xs                               # print(xs)\n",
    "x = xs.pop()                           # no function available in base R\n",
    "print x, xs                            # print(x); print (xs)"
   ]
  },
  {
   "cell_type": "markdown",
   "metadata": {},
   "source": [
    "### Slicing"
   ]
  },
  {
   "cell_type": "code",
   "execution_count": 41,
   "metadata": {
    "collapsed": false
   },
   "outputs": [
    {
     "name": "stdout",
     "output_type": "stream",
     "text": [
      "[0, 1, 2, 3, 4]\n",
      "[2, 3]\n",
      "[2, 3, 4]\n",
      "[0, 1]\n",
      "[0, 1, 2, 3, 4]\n",
      "[0, 1, 2, 3]\n",
      "[0, 1, 8, 9, 4]\n"
     ]
    }
   ],
   "source": [
    "# Python                               # R\n",
    "nums = range(5)                        # nums = 1:5\n",
    "print nums                             # print(nums)\n",
    "print nums[2:4]                        # print(nums[2:4])\n",
    "print nums[2:]                         # print(nums[2:length(nums)])\n",
    "print nums[:2]                         # print(nums[1:2])\n",
    "print nums[:]                          # print(nums[])\n",
    "print nums[:-1]                        # print(nums[-5])\n",
    "nums[2:4] = [8, 9]                     # nums[c(2,4)] <- c(8,9)\n",
    "print nums                             # print(nums)"
   ]
  },
  {
   "cell_type": "markdown",
   "metadata": {},
   "source": [
    "### Loops"
   ]
  },
  {
   "cell_type": "code",
   "execution_count": 42,
   "metadata": {
    "collapsed": false
   },
   "outputs": [
    {
     "name": "stdout",
     "output_type": "stream",
     "text": [
      "cat\n",
      "dog\n",
      "monkey\n"
     ]
    }
   ],
   "source": [
    "# Python                               # R\n",
    "animals = ['cat', 'dog', 'monkey']     # animals = c(\"cat\", \"dog\", \"monkey\")\n",
    "for animal in animals:                 # for (animal in animals){\n",
    "    print animal                       #     print(animal) }"
   ]
  },
  {
   "cell_type": "markdown",
   "metadata": {},
   "source": [
    "### Enumerate"
   ]
  },
  {
   "cell_type": "code",
   "execution_count": 43,
   "metadata": {
    "collapsed": false
   },
   "outputs": [
    {
     "name": "stdout",
     "output_type": "stream",
     "text": [
      "#1: cat\n",
      "#2: dog\n",
      "#3: monkey\n"
     ]
    }
   ],
   "source": [
    "# Python                                # R\n",
    "animals = ['cat', 'dog', 'monkey']      # animals = c(\"cat\", \"dog\", \"monkey\")\n",
    "for idx, animal in enumerate(animals):  # enumerate is not available in base R\n",
    "    print '#%d: %s' % (idx + 1, animal) #     \n"
   ]
  },
  {
   "cell_type": "markdown",
   "metadata": {},
   "source": [
    "### List Comprehension"
   ]
  },
  {
   "cell_type": "code",
   "execution_count": 46,
   "metadata": {
    "collapsed": false
   },
   "outputs": [
    {
     "name": "stdout",
     "output_type": "stream",
     "text": [
      "[0, 1, 4, 9, 16]\n",
      "[0, 1, 4, 9, 16]\n"
     ]
    }
   ],
   "source": [
    "# Python                                # R\n",
    "nums = [0, 1, 2, 3, 4]                  # nums = c(0,1,2, 3, 4)\n",
    "squares = []                            # squares <- numeric()\n",
    "for x in nums:                          # for (x in nums){\n",
    "    squares.append(x ** 2)              # squares<-c(squares, nums ** 2)}\n",
    "print squares                           # print(squares)\n",
    "\n",
    "## The above can be simplified as:      \n",
    "nums = [0, 1, 2, 3, 4]                  # nums = c(0,1,2, 3, 4)\n",
    "squares = [x ** 2 for x in nums]        # squares = nums ** 2\n",
    "print squares                           # print squares"
   ]
  },
  {
   "cell_type": "markdown",
   "metadata": {},
   "source": [
    "### List Comprehension with Conditions"
   ]
  },
  {
   "cell_type": "code",
   "execution_count": 49,
   "metadata": {
    "collapsed": false
   },
   "outputs": [
    {
     "name": "stdout",
     "output_type": "stream",
     "text": [
      "[0, 4, 16]\n"
     ]
    }
   ],
   "source": [
    "# Python                                            # R\n",
    "nums = [0, 1, 2, 3, 4]                              # nums = c(0, 1, 2, 3, 4)\n",
    "even_squares = [x ** 2 for x in nums if x % 2 == 0] # even_squares = nums[which(nums %% 2 == 0)]**2\n",
    "print even_squares                                  # print(even_squares)"
   ]
  },
  {
   "cell_type": "markdown",
   "metadata": {},
   "source": [
    "### Dictionaries"
   ]
  },
  {
   "cell_type": "code",
   "execution_count": 1,
   "metadata": {
    "collapsed": false
   },
   "outputs": [
    {
     "name": "stdout",
     "output_type": "stream",
     "text": [
      "cute\n",
      "True\n",
      "wet\n",
      "N/A\n",
      "wet\n",
      "N/A\n",
      "{'dog': 'furry', 'cat': 'cute'}\n"
     ]
    }
   ],
   "source": [
    "# Python                               # R\n",
    "d = {'cat': 'cute', 'dog': 'furry'}    # library(hash); d <- hash(c(\"cat\", \"dog\"), c(\"cute\", \"furry\"))\n",
    "print d['cat']                         # print(d$cat)\n",
    "print'cat' in d                        # print(has.key(\"cat\",d))\n",
    "d['fish'] = 'wet'                      # d$fish = \"wet\"\n",
    "print d['fish']                        # print(d$fish)\n",
    "print d.get('monkey', 'N/A')           # print(d$monkey)\n",
    "print d.get('fish', 'N/A')             # print(d$fish)\n",
    "del d['fish']                          # del(\"fish\", d) or d$fish<-NULL\n",
    "print d.get('fish', 'N/A')             # print(d$fish)\n",
    "print d                                # print(d)"
   ]
  },
  {
   "cell_type": "markdown",
   "metadata": {},
   "source": [
    "### Looping"
   ]
  },
  {
   "cell_type": "code",
   "execution_count": 56,
   "metadata": {
    "collapsed": false
   },
   "outputs": [
    {
     "name": "stdout",
     "output_type": "stream",
     "text": [
      "A person has 2 legs\n",
      "A spider has 8 legs\n",
      "A cat has 4 legs\n"
     ]
    }
   ],
   "source": [
    "# Python                                          # R \n",
    "d = {'person': 2, 'cat': 4, 'spider': 8}          # d <- hash(c(person=2,cat=4,spider=8))\n",
    "for animal in d:                                  # ffor (animal in keys(d)){\n",
    "    legs = d[animal]                              #   legs<-d[[animal]]\n",
    "    print 'A %s has %d legs' % (animal, legs)     #   p<-sprintf(\"A %s has %d legs\", animal, legs)\n",
    "                                                  #   print(p)}"
   ]
  },
  {
   "cell_type": "code",
   "execution_count": null,
   "metadata": {
    "collapsed": true
   },
   "outputs": [],
   "source": []
  }
 ],
 "metadata": {
  "kernelspec": {
   "display_name": "Python 2",
   "language": "python",
   "name": "python2"
  },
  "language_info": {
   "codemirror_mode": {
    "name": "ipython",
    "version": 2
   },
   "file_extension": ".py",
   "mimetype": "text/x-python",
   "name": "python",
   "nbconvert_exporter": "python",
   "pygments_lexer": "ipython2",
   "version": "2.7.11"
  }
 },
 "nbformat": 4,
 "nbformat_minor": 0
}
